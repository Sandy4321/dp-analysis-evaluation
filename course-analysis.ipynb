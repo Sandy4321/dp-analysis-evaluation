{
 "cells": [
  {
   "cell_type": "markdown",
   "metadata": {},
   "source": [
    "# Quantum cryptography course analysis"
   ]
  },
  {
   "cell_type": "code",
   "execution_count": 7,
   "metadata": {
    "collapsed": false
   },
   "outputs": [],
   "source": [
    "# imports\n",
    "import pandas as pd, numpy as np\n",
    "from matplotlib import pyplot as plt\n",
    "import seaborn as sns\n",
    "import psycopg2 as pg\n",
    "import pandas.io.sql as psql\n",
    "import matplotlib\n",
    "matplotlib.style.use('ggplot')\n",
    "\n",
    "# graphics setup\n",
    "%matplotlib inline\n",
    "sns.set(color_codes=True)\n",
    "\n",
    "# set up connection to the database\n",
    "connection = pg.connect(database=\"askalot_anonymized\", user=\"postgres\", port=5432, \n",
    "                        host=\"localhost\", password=\"\")"
   ]
  },
  {
   "cell_type": "code",
   "execution_count": 8,
   "metadata": {
    "collapsed": false,
    "scrolled": false
   },
   "outputs": [
    {
     "data": {
      "text/html": [
       "<div>\n",
       "<table border=\"1\" class=\"dataframe\">\n",
       "  <thead>\n",
       "    <tr style=\"text-align: right;\">\n",
       "      <th></th>\n",
       "      <th>id</th>\n",
       "      <th>author_id</th>\n",
       "      <th>category_id</th>\n",
       "      <th>title</th>\n",
       "      <th>text</th>\n",
       "      <th>created_at</th>\n",
       "      <th>votes_difference</th>\n",
       "      <th>anonymous</th>\n",
       "      <th>answers_count</th>\n",
       "      <th>comments_count</th>\n",
       "      <th>favorites_count</th>\n",
       "      <th>ans_plus_comments</th>\n",
       "    </tr>\n",
       "  </thead>\n",
       "  <tbody>\n",
       "    <tr>\n",
       "      <th>0</th>\n",
       "      <td>232</td>\n",
       "      <td>3115</td>\n",
       "      <td>2</td>\n",
       "      <td>Hello From Guadalajara, Mexico</td>\n",
       "      <td>Hi All my name is Luis Iam a Data Scientist fr...</td>\n",
       "      <td>2016-10-13 07:37:37.829332</td>\n",
       "      <td>0</td>\n",
       "      <td>False</td>\n",
       "      <td>1</td>\n",
       "      <td>0</td>\n",
       "      <td>0</td>\n",
       "      <td>1</td>\n",
       "    </tr>\n",
       "    <tr>\n",
       "      <th>1</th>\n",
       "      <td>144</td>\n",
       "      <td>1635</td>\n",
       "      <td>2</td>\n",
       "      <td>hi there</td>\n",
       "      <td>live long and prosper</td>\n",
       "      <td>2016-09-19 19:18:47.399977</td>\n",
       "      <td>0</td>\n",
       "      <td>False</td>\n",
       "      <td>0</td>\n",
       "      <td>0</td>\n",
       "      <td>0</td>\n",
       "      <td>0</td>\n",
       "    </tr>\n",
       "    <tr>\n",
       "      <th>2</th>\n",
       "      <td>8</td>\n",
       "      <td>93</td>\n",
       "      <td>2</td>\n",
       "      <td>Hello from Frankfurt :-)</td>\n",
       "      <td>Hi everyone,\\r\\nI hold a Master degree in Tele...</td>\n",
       "      <td>2016-09-08 18:46:51.079234</td>\n",
       "      <td>0</td>\n",
       "      <td>False</td>\n",
       "      <td>2</td>\n",
       "      <td>0</td>\n",
       "      <td>0</td>\n",
       "      <td>2</td>\n",
       "    </tr>\n",
       "    <tr>\n",
       "      <th>3</th>\n",
       "      <td>32</td>\n",
       "      <td>263</td>\n",
       "      <td>2</td>\n",
       "      <td>Mark Weitzman</td>\n",
       "      <td>My interests are in theoretical physics (I am ...</td>\n",
       "      <td>2016-09-09 00:35:57.294668</td>\n",
       "      <td>2</td>\n",
       "      <td>False</td>\n",
       "      <td>2</td>\n",
       "      <td>3</td>\n",
       "      <td>0</td>\n",
       "      <td>5</td>\n",
       "    </tr>\n",
       "    <tr>\n",
       "      <th>4</th>\n",
       "      <td>10</td>\n",
       "      <td>102</td>\n",
       "      <td>5</td>\n",
       "      <td>Start Date</td>\n",
       "      <td>Has the course officially started or is Week 0...</td>\n",
       "      <td>2016-09-08 18:54:04.910026</td>\n",
       "      <td>0</td>\n",
       "      <td>False</td>\n",
       "      <td>0</td>\n",
       "      <td>0</td>\n",
       "      <td>0</td>\n",
       "      <td>0</td>\n",
       "    </tr>\n",
       "  </tbody>\n",
       "</table>\n",
       "</div>"
      ],
      "text/plain": [
       "    id  author_id  category_id                           title  \\\n",
       "0  232       3115            2  Hello From Guadalajara, Mexico   \n",
       "1  144       1635            2                        hi there   \n",
       "2    8         93            2        Hello from Frankfurt :-)   \n",
       "3   32        263            2                   Mark Weitzman   \n",
       "4   10        102            5                      Start Date   \n",
       "\n",
       "                                                text  \\\n",
       "0  Hi All my name is Luis Iam a Data Scientist fr...   \n",
       "1                              live long and prosper   \n",
       "2  Hi everyone,\\r\\nI hold a Master degree in Tele...   \n",
       "3  My interests are in theoretical physics (I am ...   \n",
       "4  Has the course officially started or is Week 0...   \n",
       "\n",
       "                  created_at  votes_difference anonymous  answers_count  \\\n",
       "0 2016-10-13 07:37:37.829332                 0     False              1   \n",
       "1 2016-09-19 19:18:47.399977                 0     False              0   \n",
       "2 2016-09-08 18:46:51.079234                 0     False              2   \n",
       "3 2016-09-09 00:35:57.294668                 2     False              2   \n",
       "4 2016-09-08 18:54:04.910026                 0     False              0   \n",
       "\n",
       "   comments_count  favorites_count  ans_plus_comments  \n",
       "0               0                0                  1  \n",
       "1               0                0                  0  \n",
       "2               0                0                  2  \n",
       "3               3                0                  5  \n",
       "4               0                0                  0  "
      ]
     },
     "execution_count": 8,
     "metadata": {},
     "output_type": "execute_result"
    }
   ],
   "source": [
    "# read questions and filter columns\n",
    "questions = psql.read_sql(\"SELECT * FROM questions\", connection)\n",
    "questions = questions[['id', 'author_id', 'category_id', 'title', 'text', \n",
    "                   'created_at', 'votes_difference', 'anonymous', 'answers_count',\n",
    "                   'comments_count', 'favorites_count']]\n",
    "questions['ans_plus_comments'] = questions['answers_count'] + questions['comments_count']\n",
    "questions.head()"
   ]
  },
  {
   "cell_type": "code",
   "execution_count": 9,
   "metadata": {
    "collapsed": false
   },
   "outputs": [
    {
     "data": {
      "text/plain": [
       "count    473.000000\n",
       "mean       0.849894\n",
       "std        0.742680\n",
       "min        0.000000\n",
       "25%        0.000000\n",
       "50%        1.000000\n",
       "75%        1.000000\n",
       "max        4.000000\n",
       "Name: answers_count, dtype: float64"
      ]
     },
     "execution_count": 9,
     "metadata": {},
     "output_type": "execute_result"
    }
   ],
   "source": [
    "questions['answers_count'].describe()"
   ]
  },
  {
   "cell_type": "code",
   "execution_count": 10,
   "metadata": {
    "collapsed": false
   },
   "outputs": [
    {
     "data": {
      "text/plain": [
       "[<matplotlib.text.Text at 0x7febbb813d30>,\n",
       " <matplotlib.text.Text at 0x7febf03332b0>]"
      ]
     },
     "execution_count": 10,
     "metadata": {},
     "output_type": "execute_result"
    },
    {
     "data": {
      "image/png": "[encoded data removed]",
      "text/plain": [
       "<matplotlib.figure.Figure at 0x7febbb77d860>"
      ]
     },
     "metadata": {},
     "output_type": "display_data"
    }
   ],
   "source": [
    "ax = sns.countplot(x=\"answers_count\", data=questions)\n",
    "ax.set(xlabel='Number of question answers', ylabel='Count')"
   ]
  },
  {
   "cell_type": "code",
   "execution_count": 11,
   "metadata": {
    "collapsed": false
   },
   "outputs": [
    {
     "data": {
      "text/html": [
       "<div>\n",
       "<table border=\"1\" class=\"dataframe\">\n",
       "  <thead>\n",
       "    <tr style=\"text-align: right;\">\n",
       "      <th></th>\n",
       "      <th>id</th>\n",
       "      <th>author_id</th>\n",
       "      <th>question_id</th>\n",
       "      <th>text</th>\n",
       "      <th>votes_difference</th>\n",
       "      <th>comments_count</th>\n",
       "      <th>votes_count</th>\n",
       "    </tr>\n",
       "  </thead>\n",
       "  <tbody>\n",
       "    <tr>\n",
       "      <th>0</th>\n",
       "      <td>68</td>\n",
       "      <td>1382</td>\n",
       "      <td>112</td>\n",
       "      <td>Hi all of  you this is Emmanuel from Ghana. I ...</td>\n",
       "      <td>0</td>\n",
       "      <td>0</td>\n",
       "      <td>0</td>\n",
       "    </tr>\n",
       "    <tr>\n",
       "      <th>1</th>\n",
       "      <td>183</td>\n",
       "      <td>4</td>\n",
       "      <td>226</td>\n",
       "      <td>Welcome Chemist - I'm sure you'll find your sk...</td>\n",
       "      <td>0</td>\n",
       "      <td>0</td>\n",
       "      <td>0</td>\n",
       "    </tr>\n",
       "    <tr>\n",
       "      <th>2</th>\n",
       "      <td>2</td>\n",
       "      <td>214</td>\n",
       "      <td>13</td>\n",
       "      <td>Hi, myself Shaswat Deep. I am Software Enginee...</td>\n",
       "      <td>0</td>\n",
       "      <td>0</td>\n",
       "      <td>0</td>\n",
       "    </tr>\n",
       "    <tr>\n",
       "      <th>3</th>\n",
       "      <td>121</td>\n",
       "      <td>7</td>\n",
       "      <td>175</td>\n",
       "      <td>Hi Hussain! Your background in (classical) sec...</td>\n",
       "      <td>0</td>\n",
       "      <td>0</td>\n",
       "      <td>0</td>\n",
       "    </tr>\n",
       "    <tr>\n",
       "      <th>4</th>\n",
       "      <td>4</td>\n",
       "      <td>6</td>\n",
       "      <td>5</td>\n",
       "      <td>Welcome Shiladittya!\\r\\n\\r\\nStephanie</td>\n",
       "      <td>0</td>\n",
       "      <td>0</td>\n",
       "      <td>0</td>\n",
       "    </tr>\n",
       "  </tbody>\n",
       "</table>\n",
       "</div>"
      ],
      "text/plain": [
       "    id  author_id  question_id  \\\n",
       "0   68       1382          112   \n",
       "1  183          4          226   \n",
       "2    2        214           13   \n",
       "3  121          7          175   \n",
       "4    4          6            5   \n",
       "\n",
       "                                                text  votes_difference  \\\n",
       "0  Hi all of  you this is Emmanuel from Ghana. I ...                 0   \n",
       "1  Welcome Chemist - I'm sure you'll find your sk...                 0   \n",
       "2  Hi, myself Shaswat Deep. I am Software Enginee...                 0   \n",
       "3  Hi Hussain! Your background in (classical) sec...                 0   \n",
       "4              Welcome Shiladittya!\\r\\n\\r\\nStephanie                 0   \n",
       "\n",
       "   comments_count  votes_count  \n",
       "0               0            0  \n",
       "1               0            0  \n",
       "2               0            0  \n",
       "3               0            0  \n",
       "4               0            0  "
      ]
     },
     "execution_count": 11,
     "metadata": {},
     "output_type": "execute_result"
    }
   ],
   "source": [
    "# read answers and filter columns\n",
    "answers = psql.read_sql(\"SELECT * FROM answers\", connection)\n",
    "answers = answers[['id', 'author_id', 'question_id', 'text', 'votes_difference', 'comments_count',\n",
    "                   'votes_count']]\n",
    "answers.head()"
   ]
  },
  {
   "cell_type": "code",
   "execution_count": 12,
   "metadata": {
    "collapsed": false
   },
   "outputs": [
    {
     "data": {
      "text/plain": [
       "count    426.000000\n",
       "mean       0.410798\n",
       "std        1.046125\n",
       "min       -1.000000\n",
       "25%        0.000000\n",
       "50%        0.000000\n",
       "75%        1.000000\n",
       "max       14.000000\n",
       "Name: votes_difference, dtype: float64"
      ]
     },
     "execution_count": 12,
     "metadata": {},
     "output_type": "execute_result"
    }
   ],
   "source": [
    "answers['votes_difference'].describe()"
   ]
  },
  {
   "cell_type": "code",
   "execution_count": 13,
   "metadata": {
    "collapsed": false
   },
   "outputs": [
    {
     "data": {
      "text/plain": [
       "[<matplotlib.text.Text at 0x7febbb310cc0>,\n",
       " <matplotlib.text.Text at 0x7febbb695470>]"
      ]
     },
     "execution_count": 13,
     "metadata": {},
     "output_type": "execute_result"
    },
    {
     "data": {
      "image/png": "[encoded data removed]",
      "text/plain": [
       "<matplotlib.figure.Figure at 0x7febbb690e10>"
      ]
     },
     "metadata": {},
     "output_type": "display_data"
    }
   ],
   "source": [
    "ax = sns.countplot(x=\"votes_difference\", data=answers)\n",
    "ax.set(xlabel='Answers votes', ylabel='Count')"
   ]
  },
  {
   "cell_type": "code",
   "execution_count": 14,
   "metadata": {
    "collapsed": false
   },
   "outputs": [
    {
     "data": {
      "text/html": [
       "<div>\n",
       "<table border=\"1\" class=\"dataframe\">\n",
       "  <thead>\n",
       "    <tr style=\"text-align: right;\">\n",
       "      <th></th>\n",
       "      <th>id</th>\n",
       "      <th>login</th>\n",
       "      <th>email</th>\n",
       "      <th>answers_count</th>\n",
       "      <th>comments_count</th>\n",
       "      <th>favorites_count</th>\n",
       "      <th>questions_count</th>\n",
       "      <th>views_count</th>\n",
       "      <th>votes_count</th>\n",
       "      <th>ans_plus_comments</th>\n",
       "    </tr>\n",
       "  </thead>\n",
       "  <tbody>\n",
       "    <tr>\n",
       "      <th>0</th>\n",
       "      <td>463</td>\n",
       "      <td>fpdWYZ</td>\n",
       "      <td>username+2151@gmail.com</td>\n",
       "      <td>0</td>\n",
       "      <td>0</td>\n",
       "      <td>0</td>\n",
       "      <td>0</td>\n",
       "      <td>0</td>\n",
       "      <td>0</td>\n",
       "      <td>0</td>\n",
       "    </tr>\n",
       "    <tr>\n",
       "      <th>1</th>\n",
       "      <td>464</td>\n",
       "      <td>Fa4en2cr</td>\n",
       "      <td>username+2152@gmail.com</td>\n",
       "      <td>0</td>\n",
       "      <td>0</td>\n",
       "      <td>0</td>\n",
       "      <td>0</td>\n",
       "      <td>0</td>\n",
       "      <td>0</td>\n",
       "      <td>0</td>\n",
       "    </tr>\n",
       "    <tr>\n",
       "      <th>2</th>\n",
       "      <td>465</td>\n",
       "      <td>XJrQdh</td>\n",
       "      <td>username+2153@gmail.com</td>\n",
       "      <td>0</td>\n",
       "      <td>0</td>\n",
       "      <td>0</td>\n",
       "      <td>0</td>\n",
       "      <td>0</td>\n",
       "      <td>0</td>\n",
       "      <td>0</td>\n",
       "    </tr>\n",
       "    <tr>\n",
       "      <th>3</th>\n",
       "      <td>469</td>\n",
       "      <td>rUPCU</td>\n",
       "      <td>username+2154@gmail.com</td>\n",
       "      <td>0</td>\n",
       "      <td>0</td>\n",
       "      <td>0</td>\n",
       "      <td>0</td>\n",
       "      <td>0</td>\n",
       "      <td>0</td>\n",
       "      <td>0</td>\n",
       "    </tr>\n",
       "    <tr>\n",
       "      <th>4</th>\n",
       "      <td>2903</td>\n",
       "      <td>n41dFfvX</td>\n",
       "      <td>username+1@gmail.com</td>\n",
       "      <td>0</td>\n",
       "      <td>0</td>\n",
       "      <td>0</td>\n",
       "      <td>0</td>\n",
       "      <td>0</td>\n",
       "      <td>0</td>\n",
       "      <td>0</td>\n",
       "    </tr>\n",
       "  </tbody>\n",
       "</table>\n",
       "</div>"
      ],
      "text/plain": [
       "     id     login                    email  answers_count  comments_count  \\\n",
       "0   463    fpdWYZ  username+2151@gmail.com              0               0   \n",
       "1   464  Fa4en2cr  username+2152@gmail.com              0               0   \n",
       "2   465    XJrQdh  username+2153@gmail.com              0               0   \n",
       "3   469     rUPCU  username+2154@gmail.com              0               0   \n",
       "4  2903  n41dFfvX     username+1@gmail.com              0               0   \n",
       "\n",
       "   favorites_count  questions_count  views_count  votes_count  \\\n",
       "0                0                0            0            0   \n",
       "1                0                0            0            0   \n",
       "2                0                0            0            0   \n",
       "3                0                0            0            0   \n",
       "4                0                0            0            0   \n",
       "\n",
       "   ans_plus_comments  \n",
       "0                  0  \n",
       "1                  0  \n",
       "2                  0  \n",
       "3                  0  \n",
       "4                  0  "
      ]
     },
     "execution_count": 14,
     "metadata": {},
     "output_type": "execute_result"
    }
   ],
   "source": [
    "# read users and filter columns\n",
    "users = psql.read_sql(\"SELECT * FROM users\", connection)\n",
    "users = users[['id', 'login', 'email', 'answers_count', 'comments_count', 'favorites_count',\n",
    "               'questions_count', 'views_count', 'votes_count']]\n",
    "users['ans_plus_comments'] = users['answers_count'] + users['comments_count']\n",
    "users.head()"
   ]
  },
  {
   "cell_type": "code",
   "execution_count": 15,
   "metadata": {
    "collapsed": false
   },
   "outputs": [
    {
     "name": "stdout",
     "output_type": "stream",
     "text": [
      "count    4211.000000\n",
      "mean        0.095464\n",
      "std         1.672583\n",
      "min         0.000000\n",
      "25%         0.000000\n",
      "50%         0.000000\n",
      "75%         0.000000\n",
      "max        81.000000\n",
      "Name: answers_count, dtype: float64\n",
      "Median: \t0.0\n",
      "\n",
      "count    4211.000000\n",
      "mean        0.102826\n",
      "std         0.678911\n",
      "min         0.000000\n",
      "25%         0.000000\n",
      "50%         0.000000\n",
      "75%         0.000000\n",
      "max        21.000000\n",
      "Name: questions_count, dtype: float64\n",
      "Median: \t0.0\n",
      "\n",
      "count    4211.000000\n",
      "mean        0.115887\n",
      "std         1.403715\n",
      "min         0.000000\n",
      "25%         0.000000\n",
      "50%         0.000000\n",
      "75%         0.000000\n",
      "max        43.000000\n",
      "Name: comments_count, dtype: float64\n",
      "Median: \t0.0\n"
     ]
    }
   ],
   "source": [
    "print(users['answers_count'].describe())\n",
    "print('Median: \\t'+str(users['answers_count'].median()))\n",
    "print('')\n",
    "print(users['questions_count'].describe())\n",
    "print('Median: \\t'+str(users['questions_count'].median()))\n",
    "print('')\n",
    "print(users['comments_count'].describe())\n",
    "print('Median: \\t'+str(users['comments_count'].median()))"
   ]
  },
  {
   "cell_type": "code",
   "execution_count": 16,
   "metadata": {
    "collapsed": false
   },
   "outputs": [
    {
     "data": {
      "text/plain": [
       "[<matplotlib.text.Text at 0x7febbabdc080>,\n",
       " <matplotlib.text.Text at 0x7febbabe0080>]"
      ]
     },
     "execution_count": 16,
     "metadata": {},
     "output_type": "execute_result"
    },
    {
     "data": {
      "image/png": "[encoded data removed]",
      "text/plain": [
       "<matplotlib.figure.Figure at 0x7febbb2da2b0>"
      ]
     },
     "metadata": {},
     "output_type": "display_data"
    }
   ],
   "source": [
    "ax = sns.countplot(x=\"ans_plus_comments\", data=users.loc[users[\"ans_plus_comments\"] > 0])\n",
    "ax.set(xlabel='Answers plus comments count', ylabel='Count')"
   ]
  },
  {
   "cell_type": "code",
   "execution_count": 17,
   "metadata": {
    "collapsed": false
   },
   "outputs": [
    {
     "data": {
      "text/html": [
       "<div>\n",
       "<table border=\"1\" class=\"dataframe\">\n",
       "  <thead>\n",
       "    <tr style=\"text-align: right;\">\n",
       "      <th></th>\n",
       "      <th>user_id</th>\n",
       "      <th>Answers count</th>\n",
       "      <th>Questions count</th>\n",
       "      <th>Comments count</th>\n",
       "    </tr>\n",
       "  </thead>\n",
       "  <tbody>\n",
       "    <tr>\n",
       "      <th>count</th>\n",
       "      <td>3918.000000</td>\n",
       "      <td>3918.000000</td>\n",
       "      <td>3918.000000</td>\n",
       "      <td>3918.000000</td>\n",
       "    </tr>\n",
       "    <tr>\n",
       "      <th>mean</th>\n",
       "      <td>1960.644717</td>\n",
       "      <td>0.101582</td>\n",
       "      <td>0.109495</td>\n",
       "      <td>0.124298</td>\n",
       "    </tr>\n",
       "    <tr>\n",
       "      <th>std</th>\n",
       "      <td>1132.015328</td>\n",
       "      <td>1.732682</td>\n",
       "      <td>0.702675</td>\n",
       "      <td>1.454832</td>\n",
       "    </tr>\n",
       "    <tr>\n",
       "      <th>min</th>\n",
       "      <td>1.000000</td>\n",
       "      <td>0.000000</td>\n",
       "      <td>0.000000</td>\n",
       "      <td>0.000000</td>\n",
       "    </tr>\n",
       "    <tr>\n",
       "      <th>25%</th>\n",
       "      <td>980.250000</td>\n",
       "      <td>0.000000</td>\n",
       "      <td>0.000000</td>\n",
       "      <td>0.000000</td>\n",
       "    </tr>\n",
       "    <tr>\n",
       "      <th>50%</th>\n",
       "      <td>1961.500000</td>\n",
       "      <td>0.000000</td>\n",
       "      <td>0.000000</td>\n",
       "      <td>0.000000</td>\n",
       "    </tr>\n",
       "    <tr>\n",
       "      <th>75%</th>\n",
       "      <td>2940.750000</td>\n",
       "      <td>0.000000</td>\n",
       "      <td>0.000000</td>\n",
       "      <td>0.000000</td>\n",
       "    </tr>\n",
       "    <tr>\n",
       "      <th>max</th>\n",
       "      <td>3920.000000</td>\n",
       "      <td>81.000000</td>\n",
       "      <td>21.000000</td>\n",
       "      <td>43.000000</td>\n",
       "    </tr>\n",
       "  </tbody>\n",
       "</table>\n",
       "</div>"
      ],
      "text/plain": [
       "           user_id  Answers count  Questions count  Comments count\n",
       "count  3918.000000    3918.000000      3918.000000     3918.000000\n",
       "mean   1960.644717       0.101582         0.109495        0.124298\n",
       "std    1132.015328       1.732682         0.702675        1.454832\n",
       "min       1.000000       0.000000         0.000000        0.000000\n",
       "25%     980.250000       0.000000         0.000000        0.000000\n",
       "50%    1961.500000       0.000000         0.000000        0.000000\n",
       "75%    2940.750000       0.000000         0.000000        0.000000\n",
       "max    3920.000000      81.000000        21.000000       43.000000"
      ]
     },
     "execution_count": 17,
     "metadata": {},
     "output_type": "execute_result"
    }
   ],
   "source": [
    "groups = psql.read_sql(\"SELECT ab.ab_group_id, u.id, u.answers_count, u.questions_count, u.comments_count \"+\n",
    "                           \"FROM ab_groupings ab JOIN users u ON u.id = ab.user_id\", connection)\n",
    "groups[\"ab_group_id\"] = groups[\"ab_group_id\"].astype('category')\n",
    "groups.columns = ['ab_group_id', 'user_id', 'Answers count', 'Questions count', 'Comments count']\n",
    "groups.describe()\n",
    "#groups.dtypes"
   ]
  },
  {
   "cell_type": "code",
   "execution_count": 18,
   "metadata": {
    "collapsed": false
   },
   "outputs": [
    {
     "data": {
      "text/plain": [
       "[<matplotlib.text.Text at 0x7febbad03080>,\n",
       " <matplotlib.text.Text at 0x7febbac69630>]"
      ]
     },
     "execution_count": 18,
     "metadata": {},
     "output_type": "execute_result"
    },
    {
     "data": {
      "image/png": "[encoded data removed]",
      "text/plain": [
       "<matplotlib.figure.Figure at 0x7febbacded68>"
      ]
     },
     "metadata": {},
     "output_type": "display_data"
    }
   ],
   "source": [
    "# Distribution of ab groups\n",
    "#sns.factorplot(x=\"ab_group_id\", y=\"questions_count\", data=groups, size=6, kind=\"bar\", palette=\"muted\")\n",
    "ax = groups.groupby('ab_group_id')[\"Answers count\", \"Questions count\", \"Comments count\"].sum().plot(kind=\"bar\")\n",
    "ax.set(xlabel='AB group id', ylabel='Frequency')"
   ]
  },
  {
   "cell_type": "code",
   "execution_count": 19,
   "metadata": {
    "collapsed": false
   },
   "outputs": [
    {
     "data": {
      "text/html": [
       "<div>\n",
       "<table border=\"1\" class=\"dataframe\">\n",
       "  <thead>\n",
       "    <tr style=\"text-align: right;\">\n",
       "      <th></th>\n",
       "      <th>id</th>\n",
       "      <th>name</th>\n",
       "      <th>parent_id</th>\n",
       "      <th>questions_count</th>\n",
       "    </tr>\n",
       "  </thead>\n",
       "  <tbody>\n",
       "    <tr>\n",
       "      <th>0</th>\n",
       "      <td>3</td>\n",
       "      <td>Getting started</td>\n",
       "      <td>1.0</td>\n",
       "      <td>0</td>\n",
       "    </tr>\n",
       "    <tr>\n",
       "      <th>1</th>\n",
       "      <td>10</td>\n",
       "      <td>Lecture 1</td>\n",
       "      <td>11.0</td>\n",
       "      <td>3</td>\n",
       "    </tr>\n",
       "    <tr>\n",
       "      <th>2</th>\n",
       "      <td>117</td>\n",
       "      <td>3.5 Extended UR principles: tripartite version</td>\n",
       "      <td>108.0</td>\n",
       "      <td>0</td>\n",
       "    </tr>\n",
       "    <tr>\n",
       "      <th>3</th>\n",
       "      <td>42</td>\n",
       "      <td>1. Quantum tools and a first protocol</td>\n",
       "      <td>1.0</td>\n",
       "      <td>0</td>\n",
       "    </tr>\n",
       "    <tr>\n",
       "      <th>4</th>\n",
       "      <td>93</td>\n",
       "      <td>2.4 Sharing a classical secret using quantum s...</td>\n",
       "      <td>75.0</td>\n",
       "      <td>0</td>\n",
       "    </tr>\n",
       "  </tbody>\n",
       "</table>\n",
       "</div>"
      ],
      "text/plain": [
       "    id                                               name  parent_id  \\\n",
       "0    3                                    Getting started        1.0   \n",
       "1   10                                          Lecture 1       11.0   \n",
       "2  117     3.5 Extended UR principles: tripartite version      108.0   \n",
       "3   42              1. Quantum tools and a first protocol        1.0   \n",
       "4   93  2.4 Sharing a classical secret using quantum s...       75.0   \n",
       "\n",
       "   questions_count  \n",
       "0                0  \n",
       "1                3  \n",
       "2                0  \n",
       "3                0  \n",
       "4                0  "
      ]
     },
     "execution_count": 19,
     "metadata": {},
     "output_type": "execute_result"
    }
   ],
   "source": [
    "# read categories and filter columns\n",
    "categories = psql.read_sql(\"SELECT * FROM categories\", connection)\n",
    "categories = categories[['id','name', 'parent_id', 'questions_count', ]]\n",
    "\n",
    "categories.head()"
   ]
  },
  {
   "cell_type": "code",
   "execution_count": null,
   "metadata": {
    "collapsed": true
   },
   "outputs": [],
   "source": []
  }
 ],
 "metadata": {
  "kernelspec": {
   "display_name": "Python 3",
   "language": "python",
   "name": "python3"
  },
  "language_info": {
   "codemirror_mode": {
    "name": "ipython",
    "version": 3
   },
   "file_extension": ".py",
   "mimetype": "text/x-python",
   "name": "python",
   "nbconvert_exporter": "python",
   "pygments_lexer": "ipython3",
   "version": "3.5.1"
  }
 },
 "nbformat": 4,
 "nbformat_minor": 0
}
