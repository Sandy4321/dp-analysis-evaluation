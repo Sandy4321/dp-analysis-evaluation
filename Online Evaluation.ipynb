{
 "cells": [
  {
   "cell_type": "markdown",
   "metadata": {},
   "source": [
    "# Online EdX experiment evaluation\n",
    "A/B experiment was conducted on [CaltechDelftX: QuCryptox Quantum cryptography](https://courses.edx.org/courses/course-v1:CaltechDelftX+QuCryptox+3T2016) MOOC course offered by **Caltech** University and **TU Delft** at **EdX platform**. We are evaluating our proposed **question routing (recommendation of new questions) framework**. Users were split into three groups:\n",
    "\n",
    "1. Question recommendation with educational-context group\n",
    "2. Question recommendation without educational-context group\n",
    "3. Control group without question recommendation\n",
    "\n",
    "\n",
    "Course lasted 11 weeks from 3.10.2016 to 20.12.2016.\n",
    "\n",
    "Online experiment started 14.11.2016 (start of week \\#6). "
   ]
  },
  {
   "cell_type": "code",
   "execution_count": 75,
   "metadata": {
    "collapsed": true
   },
   "outputs": [],
   "source": [
    "# imports\n",
    "import pandas as pd, numpy as np\n",
    "from matplotlib import pyplot as plt\n",
    "import seaborn as sns\n",
    "import psycopg2 as pg\n",
    "import pandas.io.sql as psql\n",
    "import matplotlib\n",
    "matplotlib.style.use('ggplot')\n",
    "from IPython.display import display\n",
    "\n",
    "# graphics setup\n",
    "%matplotlib inline\n",
    "sns.set(color_codes=True)\n",
    "\n",
    "# set up connection to the database\n",
    "connection = pg.connect(database=\"askalot_edx_development\", user=\"postgres\", port=5432, \n",
    "                        host=\"localhost\", password=\"\")"
   ]
  },
  {
   "cell_type": "markdown",
   "metadata": {},
   "source": [
    "## A/B groups statistics"
   ]
  },
  {
   "cell_type": "markdown",
   "metadata": {},
   "source": [
    "### Users count"
   ]
  },
  {
   "cell_type": "code",
   "execution_count": 76,
   "metadata": {
    "collapsed": false
   },
   "outputs": [
    {
     "data": {
      "text/html": [
       "<div>\n",
       "<table border=\"1\" class=\"dataframe\">\n",
       "  <thead>\n",
       "    <tr style=\"text-align: right;\">\n",
       "      <th></th>\n",
       "      <th>id</th>\n",
       "      <th>value</th>\n",
       "      <th>count</th>\n",
       "    </tr>\n",
       "  </thead>\n",
       "  <tbody>\n",
       "    <tr>\n",
       "      <th>0</th>\n",
       "      <td>1</td>\n",
       "      <td>Question routing full</td>\n",
       "      <td>1304</td>\n",
       "    </tr>\n",
       "    <tr>\n",
       "      <th>1</th>\n",
       "      <td>3</td>\n",
       "      <td>Control group for question routing</td>\n",
       "      <td>1309</td>\n",
       "    </tr>\n",
       "    <tr>\n",
       "      <th>2</th>\n",
       "      <td>2</td>\n",
       "      <td>Question routing baseline</td>\n",
       "      <td>1305</td>\n",
       "    </tr>\n",
       "  </tbody>\n",
       "</table>\n",
       "</div>"
      ],
      "text/plain": [
       "   id                               value  count\n",
       "0   1               Question routing full   1304\n",
       "1   3  Control group for question routing   1309\n",
       "2   2           Question routing baseline   1305"
      ]
     },
     "execution_count": 76,
     "metadata": {},
     "output_type": "execute_result"
    }
   ],
   "source": [
    "users = psql.read_sql(\"SELECT g.id, g.value, COUNT(*) FROM ab_groupings ab \"+\n",
    "                      \"JOIN ab_groups g ON g.id=ab.ab_group_id GROUP BY g.id\", connection)\n",
    "users"
   ]
  },
  {
   "cell_type": "markdown",
   "metadata": {},
   "source": [
    "### Total number of recommended questions to group number 1 and 2"
   ]
  },
  {
   "cell_type": "code",
   "execution_count": 77,
   "metadata": {
    "collapsed": false
   },
   "outputs": [
    {
     "data": {
      "text/html": [
       "<div>\n",
       "<table border=\"1\" class=\"dataframe\">\n",
       "  <thead>\n",
       "    <tr style=\"text-align: right;\">\n",
       "      <th></th>\n",
       "      <th>total_recommended_questions</th>\n",
       "    </tr>\n",
       "  </thead>\n",
       "  <tbody>\n",
       "    <tr>\n",
       "      <th>0</th>\n",
       "      <td>124</td>\n",
       "    </tr>\n",
       "  </tbody>\n",
       "</table>\n",
       "</div>"
      ],
      "text/plain": [
       "   total_recommended_questions\n",
       "0                          124"
      ]
     },
     "execution_count": 77,
     "metadata": {},
     "output_type": "execute_result"
    }
   ],
   "source": [
    "answers_count = psql.read_sql(\"\"\"\n",
    "                                SELECT COUNT(DISTINCT(resource_id)) AS total_recommended_questions \n",
    "                                FROM notifications as n \n",
    "                                JOIN ab_groupings ab ON ab.user_id = n.recipient_id \n",
    "                                WHERE n.action = 'recommendation' AND n.created_at < '2016-12-20'\n",
    "                              \"\"\", connection)\n",
    "answers_count"
   ]
  },
  {
   "cell_type": "markdown",
   "metadata": {},
   "source": [
    "### Recommendation click-through rate"
   ]
  },
  {
   "cell_type": "code",
   "execution_count": 78,
   "metadata": {
    "collapsed": false
   },
   "outputs": [
    {
     "data": {
      "text/html": [
       "<div>\n",
       "<table border=\"1\" class=\"dataframe\">\n",
       "  <thead>\n",
       "    <tr style=\"text-align: right;\">\n",
       "      <th></th>\n",
       "      <th>absolute_count</th>\n",
       "      <th>total_ctr</th>\n",
       "    </tr>\n",
       "  </thead>\n",
       "  <tbody>\n",
       "    <tr>\n",
       "      <th>0</th>\n",
       "      <td>518</td>\n",
       "      <td>0.208871</td>\n",
       "    </tr>\n",
       "  </tbody>\n",
       "</table>\n",
       "</div>"
      ],
      "text/plain": [
       "   absolute_count  total_ctr\n",
       "0             518   0.208871"
      ]
     },
     "metadata": {},
     "output_type": "display_data"
    },
    {
     "data": {
      "text/html": [
       "<div>\n",
       "<table border=\"1\" class=\"dataframe\">\n",
       "  <thead>\n",
       "    <tr style=\"text-align: right;\">\n",
       "      <th></th>\n",
       "      <th>absolute_count</th>\n",
       "      <th>ctr_from_dashboard</th>\n",
       "    </tr>\n",
       "  </thead>\n",
       "  <tbody>\n",
       "    <tr>\n",
       "      <th>0</th>\n",
       "      <td>74</td>\n",
       "      <td>0.130511</td>\n",
       "    </tr>\n",
       "  </tbody>\n",
       "</table>\n",
       "</div>"
      ],
      "text/plain": [
       "   absolute_count  ctr_from_dashboard\n",
       "0              74            0.130511"
      ]
     },
     "metadata": {},
     "output_type": "display_data"
    },
    {
     "data": {
      "text/html": [
       "<div>\n",
       "<table border=\"1\" class=\"dataframe\">\n",
       "  <thead>\n",
       "    <tr style=\"text-align: right;\">\n",
       "      <th></th>\n",
       "      <th>ab_group_id</th>\n",
       "      <th>portion</th>\n",
       "    </tr>\n",
       "  </thead>\n",
       "  <tbody>\n",
       "    <tr>\n",
       "      <th>0</th>\n",
       "      <td>1</td>\n",
       "      <td>0.112097</td>\n",
       "    </tr>\n",
       "    <tr>\n",
       "      <th>1</th>\n",
       "      <td>2</td>\n",
       "      <td>0.089113</td>\n",
       "    </tr>\n",
       "    <tr>\n",
       "      <th>2</th>\n",
       "      <td>3</td>\n",
       "      <td>0.007661</td>\n",
       "    </tr>\n",
       "  </tbody>\n",
       "</table>\n",
       "</div>"
      ],
      "text/plain": [
       "   ab_group_id   portion\n",
       "0            1  0.112097\n",
       "1            2  0.089113\n",
       "2            3  0.007661"
      ]
     },
     "execution_count": 78,
     "metadata": {},
     "output_type": "execute_result"
    }
   ],
   "source": [
    "ctr = psql.read_sql(\"\"\"   \n",
    "    SELECT COUNT(*) as absolute_count, CAST(COUNT(*) AS FLOAT) / (SELECT COUNT(*) FROM notifications WHERE action= 'recommendation' AND created_at < '2016-12-20') as total_ctr\n",
    "    FROM notifications as n WHERE n.action= 'recommendation' AND n.unread = FALSE AND n.created_at < '2016-12-20'\n",
    "    \"\"\",connection)\n",
    "display(ctr)\n",
    "\n",
    "ctr_from_dashboard = psql.read_sql(\"\"\"   \n",
    "    SELECT COUNT(*) as absolute_count, CAST(COUNT(*) AS FLOAT) / (SELECT COUNT(*) FROM notifications WHERE action= 'recommendation' AND unread=FALSE) as ctr_from_dashboard \n",
    "    FROM notifications as n WHERE n.action= 'recommendation' AND from_dashboard = TRUE    \"\"\",connection)\n",
    "display(ctr_from_dashboard)\n",
    "\n",
    "ctr_by_groups = psql.read_sql(\"\"\"\n",
    "    SELECT ab.ab_group_id, CAST(COUNT(*) AS FLOAT) / (SELECT COUNT(*) FROM notifications WHERE action= 'recommendation' AND created_at < '2016-12-20') as portion\n",
    "    FROM notifications as n \n",
    "    INNER JOIN ab_groupings ab ON ab.user_id = n.recipient_id\n",
    "    WHERE n.action= 'recommendation' AND n.unread = FALSE AND n.created_at < '2016-12-20'\n",
    "    GROUP BY ab.ab_group_id\n",
    "    \"\"\", connection)\n",
    "ctr_by_groups"
   ]
  },
  {
   "cell_type": "markdown",
   "metadata": {},
   "source": [
    "### Recommendation success rate\n",
    "Users who post an answer or comment to a recommended questions."
   ]
  },
  {
   "cell_type": "code",
   "execution_count": 79,
   "metadata": {
    "collapsed": false
   },
   "outputs": [
    {
     "data": {
      "text/plain": [
       "ab_group_id\n",
       "1    23\n",
       "2     5\n",
       "3     1\n",
       "Name: n_id, dtype: int64"
      ]
     },
     "execution_count": 79,
     "metadata": {},
     "output_type": "execute_result"
    }
   ],
   "source": [
    "success_rec = psql.read_sql(\"\"\"\n",
    "    SELECT ab.ab_group_id, n.id as n_id, n.created_at, n.unread, n.read_at, n.from_dashboard, q.title, q.author_id, q.text, q.created_at, a.author_id, a.text, a.created_at\n",
    "    FROM notifications as n INNER JOIN questions q ON q.id = n.resource_id INNER JOIN answers a ON n.recipient_id = a.author_id AND q.id=a.question_id \n",
    "    INNER JOIN ab_groupings ab ON ab.user_id = n.recipient_id WHERE n.action= 'recommendation'\n",
    "    UNION ALL\n",
    "    SELECT ab.ab_group_id, n.id as n_id, n.created_at, n.unread, n.read_at, n.from_dashboard, q.title, q.author_id, q.text, q.created_at, c.author_id, c.text, c.created_at\n",
    "    FROM notifications as n INNER JOIN questions q ON q.id = n.resource_id INNER JOIN comments c ON n.recipient_id = c.author_id AND q.id=c.commentable_id \n",
    "    INNER JOIN ab_groupings ab ON ab.user_id = n.recipient_id WHERE n.action= 'recommendation' AND c.commentable_type = 'Shared::Question'\n",
    "    \"\"\",connection)\n",
    "success_rec.groupby('ab_group_id')['n_id'].count()"
   ]
  },
  {
   "cell_type": "markdown",
   "metadata": {},
   "source": [
    "Question routing with educational-context has better recommendation success rate.\n",
    "\n",
    "Note: User in ab_group number 3 is my colleage and he was moved away from group number 2 during the course."
   ]
  },
  {
   "cell_type": "markdown",
   "metadata": {},
   "source": [
    "### Questions count"
   ]
  },
  {
   "cell_type": "code",
   "execution_count": 80,
   "metadata": {
    "collapsed": false
   },
   "outputs": [
    {
     "name": "stdout",
     "output_type": "stream",
     "text": [
      "Questions before online experiment: 406\n",
      "Questions during online experiment: 119\n"
     ]
    }
   ],
   "source": [
    "questions_end = psql.read_sql(\"SELECT q.author_id, ab.ab_group_id FROM questions q JOIN ab_groupings ab ON q.author_id = ab.user_id \"+\n",
    "                          \"WHERE q.created_at >= '2016-11-14' AND q.created_at < '2016-12-20'\", connection)\n",
    "questions_start = psql.read_sql(\"SELECT q.author_id, ab.ab_group_id FROM questions q JOIN ab_groupings ab ON q.author_id = ab.user_id \"+\n",
    "                          \"WHERE q.created_at < '2016-11-14'\", connection)\n",
    "\n",
    "print(\"Questions before online experiment: %d\" % questions_start.shape[0])\n",
    "print(\"Questions during online experiment: %d\" % questions_end.shape[0])"
   ]
  },
  {
   "cell_type": "markdown",
   "metadata": {},
   "source": [
    "Note: Deletion of some questions by users cause the difference between recommended questions and total number of questions during online experiment."
   ]
  },
  {
   "cell_type": "markdown",
   "metadata": {},
   "source": [
    "### Answers count"
   ]
  },
  {
   "cell_type": "code",
   "execution_count": 81,
   "metadata": {
    "collapsed": false
   },
   "outputs": [
    {
     "name": "stdout",
     "output_type": "stream",
     "text": [
      "Answers before online experiment: 355\n",
      "Answers during online experiment: 133\n"
     ]
    }
   ],
   "source": [
    "answers_end = psql.read_sql(\"SELECT a.author_id, ab.ab_group_id FROM answers a JOIN ab_groupings ab ON a.author_id = ab.user_id \"+\n",
    "                          \"WHERE a.created_at >= '2016-11-14' AND a.created_at < '2016-12-20'\", connection)\n",
    "answers_start = psql.read_sql(\"SELECT a.author_id, ab.ab_group_id FROM answers a JOIN ab_groupings ab ON a.author_id = ab.user_id \"+\n",
    "                          \"WHERE a.created_at < '2016-11-14'\", connection)\n",
    "# professor - AND a.author_id != 4\n",
    "\n",
    "print(\"Answers before online experiment: %d\" % answers_start.shape[0])\n",
    "print(\"Answers during online experiment: %d\" % answers_end.shape[0])"
   ]
  },
  {
   "cell_type": "markdown",
   "metadata": {},
   "source": [
    "### Comments count"
   ]
  },
  {
   "cell_type": "code",
   "execution_count": 82,
   "metadata": {
    "collapsed": false
   },
   "outputs": [
    {
     "name": "stdout",
     "output_type": "stream",
     "text": [
      "Coments before online experiment: 430\n",
      "Comments during online experiment: 169\n"
     ]
    }
   ],
   "source": [
    "comments_end = psql.read_sql(\"SELECT c.author_id, ab.ab_group_id FROM comments c JOIN ab_groupings ab ON c.author_id = ab.user_id \"+\n",
    "                          \"WHERE c.created_at >= '2016-11-14' AND c.created_at < '2016-12-20'\", connection)\n",
    "comments_start = psql.read_sql(\"SELECT c.author_id, ab.ab_group_id FROM comments c JOIN ab_groupings ab ON c.author_id = ab.user_id \"+\n",
    "                          \"WHERE c.created_at < '2016-11-14'\", connection)\n",
    "\n",
    "print(\"Coments before online experiment: %d\" % comments_start.shape[0])\n",
    "print(\"Comments during online experiment: %d\" % comments_end.shape[0])"
   ]
  },
  {
   "cell_type": "markdown",
   "metadata": {},
   "source": [
    "### Question views count"
   ]
  },
  {
   "cell_type": "code",
   "execution_count": 83,
   "metadata": {
    "collapsed": false
   },
   "outputs": [
    {
     "name": "stdout",
     "output_type": "stream",
     "text": [
      "Question views before online experiment: 13721\n",
      "Question views during online experiment: 7572\n",
      "Question views before:\n",
      "ab_group_id\n",
      "1    3824\n",
      "2    4857\n",
      "3    5040\n",
      "Name: viewer_id, dtype: int64\n",
      "Question views during:\n",
      "ab_group_id\n",
      "1    2993\n",
      "2    2622\n",
      "3    1957\n",
      "Name: viewer_id, dtype: int64\n"
     ]
    },
    {
     "data": {
      "text/plain": [
       "[<matplotlib.text.Text at 0x7fca79fb2ed0>,\n",
       " <matplotlib.text.Text at 0x7fca79f91990>]"
      ]
     },
     "execution_count": 83,
     "metadata": {},
     "output_type": "execute_result"
    },
    {
     "data": {
      "image/png": "[encoded data removed]",
      "text/plain": [
       "<matplotlib.figure.Figure at 0x7fca7a6e8c90>"
      ]
     },
     "metadata": {},
     "output_type": "display_data"
    },
    {
     "data": {
      "image/png": "[encoded data removed]",
      "text/plain": [
       "<matplotlib.figure.Figure at 0x7fca7a04b050>"
      ]
     },
     "metadata": {},
     "output_type": "display_data"
    }
   ],
   "source": [
    "# read questions and filter columns\n",
    "views_end = psql.read_sql(\"SELECT v.viewer_id, ab.ab_group_id FROM views v JOIN ab_groupings ab ON v.viewer_id = ab.user_id \"+\n",
    "                          \"WHERE v.created_at >= '2016-11-14' AND v.created_at < '2016-12-20'\", connection)\n",
    "views_start = psql.read_sql(\"SELECT v.viewer_id, ab.ab_group_id FROM views v JOIN ab_groupings ab ON v.viewer_id = ab.user_id \"+\n",
    "                          \"WHERE v.created_at < '2016-11-14'\", connection)\n",
    "\n",
    "print(\"Question views before online experiment: %d\" % views_start.shape[0])\n",
    "print(\"Question views during online experiment: %d\" % views_end.shape[0])\n",
    "\n",
    "\n",
    "# Histogram views before\n",
    "views_by_groups = views_start.groupby('ab_group_id')[\"viewer_id\"].count()\n",
    "print(\"Question views before:\")\n",
    "print(views_by_groups)\n",
    "plt.figure(figsize=(7,3))\n",
    "ax = views_by_groups.plot(kind=\"bar\", title=\"Question views before online experiment\")\n",
    "ax.set(xlabel='AB group id', ylabel='Frequency')\n",
    "\n",
    "# Histogram views during\n",
    "views_by_groups = views_end.groupby('ab_group_id')[\"viewer_id\"].count()\n",
    "print(\"Question views during:\")\n",
    "print(views_by_groups)\n",
    "plt.figure(figsize=(7,3))\n",
    "ax = views_by_groups.plot(kind=\"bar\", title=\"Question views during online experiment\")\n",
    "ax.set(xlabel='AB group id', ylabel='Frequency')"
   ]
  },
  {
   "cell_type": "code",
   "execution_count": 84,
   "metadata": {
    "collapsed": false
   },
   "outputs": [],
   "source": [
    "# Create before and during dataframe with answer, question and comments counts\n",
    "\n",
    "# Before\n",
    "# questions\n",
    "question_by_groups = questions_start.groupby('ab_group_id')[\"author_id\"].count()\n",
    "start_df = question_by_groups.to_frame(name = 'questions_count').reset_index()\n",
    "# answers\n",
    "answers_by_groups = answers_start.groupby('ab_group_id')[\"author_id\"].count()\n",
    "temp = answers_by_groups.to_frame(name = 'answers_count').reset_index()\n",
    "start_df = pd.merge(start_df, temp, on='ab_group_id', how='inner')\n",
    "# comments\n",
    "comments_by_groups = comments_start.groupby('ab_group_id')[\"author_id\"].count()\n",
    "temp = comments_by_groups.to_frame(name = 'comments_count').reset_index()\n",
    "start_df = pd.merge(start_df, temp, on='ab_group_id', how='inner')\n",
    "\n",
    "# During\n",
    "# questions\n",
    "question_by_groups = questions_end.groupby('ab_group_id')[\"author_id\"].count()\n",
    "end_df = question_by_groups.to_frame(name = 'questions_count').reset_index()\n",
    "# answers\n",
    "answers_by_groups = answers_end.groupby('ab_group_id')[\"author_id\"].count()\n",
    "temp = answers_by_groups.to_frame(name = 'answers_count').reset_index()\n",
    "end_df = pd.merge(end_df, temp, on='ab_group_id', how='inner')\n",
    "# comments\n",
    "comments_by_groups = comments_end.groupby('ab_group_id')[\"author_id\"].count()\n",
    "temp = comments_by_groups.to_frame(name = 'comments_count').reset_index()\n",
    "end_df = pd.merge(end_df, temp, on='ab_group_id', how='inner')"
   ]
  },
  {
   "cell_type": "code",
   "execution_count": 85,
   "metadata": {
    "collapsed": false
   },
   "outputs": [
    {
     "data": {
      "text/plain": [
       "[<matplotlib.text.Text at 0x7fca7a1d7410>,\n",
       " <matplotlib.text.Text at 0x7fca7a90b390>]"
      ]
     },
     "execution_count": 85,
     "metadata": {},
     "output_type": "execute_result"
    },
    {
     "data": {
      "text/plain": [
       "<matplotlib.figure.Figure at 0x7fca79ed0410>"
      ]
     },
     "metadata": {},
     "output_type": "display_data"
    },
    {
     "data": {
      "image/png": "[encoded data removed]",
      "text/plain": [
       "<matplotlib.figure.Figure at 0x7fca7a063bd0>"
      ]
     },
     "metadata": {},
     "output_type": "display_data"
    },
    {
     "data": {
      "text/plain": [
       "<matplotlib.figure.Figure at 0x7fca7a063c50>"
      ]
     },
     "metadata": {},
     "output_type": "display_data"
    },
    {
     "data": {
      "image/png": "[encoded data removed]",
      "text/plain": [
       "<matplotlib.figure.Figure at 0x7fca7a187790>"
      ]
     },
     "metadata": {},
     "output_type": "display_data"
    }
   ],
   "source": [
    "# Before\n",
    "plt.figure(figsize=(7,3))\n",
    "ax = start_df.groupby('ab_group_id')[\"answers_count\", \"questions_count\", \"comments_count\"].sum().plot(kind=\"bar\", \n",
    "                                                                                                      title=\"Before online experiment\")\n",
    "ax.set(xlabel='AB group id', ylabel='Frequency')\n",
    "\n",
    "# During\n",
    "plt.figure(figsize=(7,3))\n",
    "ax = end_df.groupby('ab_group_id')[\"answers_count\", \"questions_count\", \"comments_count\"].sum().plot(kind=\"bar\", title=\"During online experiment\")\n",
    "ax.set(xlabel='AB group id', ylabel='Frequency')"
   ]
  },
  {
   "cell_type": "code",
   "execution_count": 86,
   "metadata": {
    "collapsed": false
   },
   "outputs": [
    {
     "data": {
      "text/html": [
       "<div>\n",
       "<table border=\"1\" class=\"dataframe\">\n",
       "  <thead>\n",
       "    <tr style=\"text-align: right;\">\n",
       "      <th></th>\n",
       "      <th>ab_group_id</th>\n",
       "      <th>questions_count_start</th>\n",
       "      <th>answers_count_start</th>\n",
       "      <th>comments_count_start</th>\n",
       "      <th>questions_count_end</th>\n",
       "      <th>answers_count_end</th>\n",
       "      <th>comments_count_end</th>\n",
       "      <th>questions_count_change</th>\n",
       "      <th>answers_count_change</th>\n",
       "      <th>comments_count_change</th>\n",
       "    </tr>\n",
       "  </thead>\n",
       "  <tbody>\n",
       "    <tr>\n",
       "      <th>0</th>\n",
       "      <td>1</td>\n",
       "      <td>139</td>\n",
       "      <td>148</td>\n",
       "      <td>143</td>\n",
       "      <td>46</td>\n",
       "      <td>81</td>\n",
       "      <td>96</td>\n",
       "      <td>33.093525</td>\n",
       "      <td>54.729730</td>\n",
       "      <td>67.132867</td>\n",
       "    </tr>\n",
       "    <tr>\n",
       "      <th>1</th>\n",
       "      <td>2</td>\n",
       "      <td>138</td>\n",
       "      <td>110</td>\n",
       "      <td>140</td>\n",
       "      <td>49</td>\n",
       "      <td>6</td>\n",
       "      <td>45</td>\n",
       "      <td>35.507246</td>\n",
       "      <td>5.454545</td>\n",
       "      <td>32.142857</td>\n",
       "    </tr>\n",
       "    <tr>\n",
       "      <th>2</th>\n",
       "      <td>3</td>\n",
       "      <td>129</td>\n",
       "      <td>97</td>\n",
       "      <td>147</td>\n",
       "      <td>24</td>\n",
       "      <td>46</td>\n",
       "      <td>28</td>\n",
       "      <td>18.604651</td>\n",
       "      <td>47.422680</td>\n",
       "      <td>19.047619</td>\n",
       "    </tr>\n",
       "  </tbody>\n",
       "</table>\n",
       "</div>"
      ],
      "text/plain": [
       "   ab_group_id  questions_count_start  answers_count_start  \\\n",
       "0            1                    139                  148   \n",
       "1            2                    138                  110   \n",
       "2            3                    129                   97   \n",
       "\n",
       "   comments_count_start  questions_count_end  answers_count_end  \\\n",
       "0                   143                   46                 81   \n",
       "1                   140                   49                  6   \n",
       "2                   147                   24                 46   \n",
       "\n",
       "   comments_count_end  questions_count_change  answers_count_change  \\\n",
       "0                  96               33.093525             54.729730   \n",
       "1                  45               35.507246              5.454545   \n",
       "2                  28               18.604651             47.422680   \n",
       "\n",
       "   comments_count_change  \n",
       "0              67.132867  \n",
       "1              32.142857  \n",
       "2              19.047619  "
      ]
     },
     "execution_count": 86,
     "metadata": {},
     "output_type": "execute_result"
    }
   ],
   "source": [
    "# comparison between before and during - percentage increase\n",
    "df = pd.merge(start_df, end_df, on='ab_group_id', how='inner', suffixes=['_start', '_end'])\n",
    "df['questions_count_change']= df['questions_count_end']*100 / df['questions_count_start']\n",
    "df['answers_count_change']= df['answers_count_end']*100 / df['answers_count_start']\n",
    "df['comments_count_change']= df['comments_count_end']*100 / df['comments_count_start']\n",
    "df.head()"
   ]
  },
  {
   "cell_type": "code",
   "execution_count": 87,
   "metadata": {
    "collapsed": false
   },
   "outputs": [
    {
     "data": {
      "text/plain": [
       "[<matplotlib.text.Text at 0x7fca7a5e8c10>,\n",
       " <matplotlib.text.Text at 0x7fca7a5e0490>]"
      ]
     },
     "execution_count": 87,
     "metadata": {},
     "output_type": "execute_result"
    },
    {
     "data": {
      "text/plain": [
       "<matplotlib.figure.Figure at 0x7fca7a0652d0>"
      ]
     },
     "metadata": {},
     "output_type": "display_data"
    },
    {
     "data": {
      "image/png": "[encoded data removed]",
      "text/plain": [
       "<matplotlib.figure.Figure at 0x7fca79ed9a50>"
      ]
     },
     "metadata": {},
     "output_type": "display_data"
    }
   ],
   "source": [
    "plt.figure(figsize=(7,3))\n",
    "ax = df.groupby('ab_group_id')[\"answers_count_change\", \"questions_count_change\", \"comments_count_change\"].sum()\\\n",
    "    .plot(kind=\"bar\", title=\"Percentage change compared to values at the start of online experiment\")\n",
    "ax.set(xlabel='AB group id', ylabel='Percentage [%]')"
   ]
  },
  {
   "cell_type": "markdown",
   "metadata": {},
   "source": [
    "### Unique users with answers and comments\n",
    "Comparing contributing users (answering, commenting) before the online experiment and during the online experiment?"
   ]
  },
  {
   "cell_type": "code",
   "execution_count": 88,
   "metadata": {
    "collapsed": false
   },
   "outputs": [
    {
     "data": {
      "text/plain": [
       "[<matplotlib.text.Text at 0x7fca79d8efd0>,\n",
       " <matplotlib.text.Text at 0x7fca79df0890>]"
      ]
     },
     "execution_count": 88,
     "metadata": {},
     "output_type": "execute_result"
    },
    {
     "data": {
      "image/png": "[encoded data removed]",
      "text/plain": [
       "<matplotlib.figure.Figure at 0x7fca7a314510>"
      ]
     },
     "metadata": {},
     "output_type": "display_data"
    },
    {
     "data": {
      "image/png": "[encoded data removed]",
      "text/plain": [
       "<matplotlib.figure.Figure at 0x7fca7a314190>"
      ]
     },
     "metadata": {},
     "output_type": "display_data"
    }
   ],
   "source": [
    "users_start = psql.read_sql(\"\"\"\n",
    "    SELECT DISTINCT(a.author_id), a.ab_group_id FROM\n",
    "    ((SELECT a.author_id, ab.ab_group_id FROM answers a JOIN ab_groupings ab ON a.author_id = ab.user_id\n",
    "    WHERE a.created_at < '2016-11-14')\n",
    "    UNION ALL\n",
    "    (SELECT c.author_id, ab.ab_group_id FROM comments c JOIN ab_groupings ab ON c.author_id = ab.user_id\n",
    "    WHERE c.created_at < '2016-11-14')\n",
    "    ) as a\n",
    "    \"\"\", connection)\n",
    "\n",
    "users_during = psql.read_sql(\"\"\"\n",
    "    SELECT DISTINCT(a.author_id), a.ab_group_id FROM\n",
    "    ((SELECT a.author_id, ab.ab_group_id FROM answers a JOIN ab_groupings ab ON a.author_id = ab.user_id\n",
    "    WHERE a.created_at >= '2016-11-14' AND a.created_at < '2016-12-20')\n",
    "    UNION ALL\n",
    "    (SELECT c.author_id, ab.ab_group_id FROM comments c JOIN ab_groupings ab ON c.author_id = ab.user_id\n",
    "    WHERE c.created_at >= '2016-11-14' AND c.created_at < '2016-12-20')\n",
    "    ) as a\n",
    "    \"\"\", connection)\n",
    "\n",
    "plt.figure(figsize=(7,3))\n",
    "ax = users_start.groupby('ab_group_id')[\"author_id\"].count().plot(kind=\"bar\", title=\"Unique users contributing before the online experiment\")\n",
    "ax.set(xlabel='AB group id', ylabel='Frequency')\n",
    "\n",
    "plt.figure(figsize=(7,3))\n",
    "ax = users_during.groupby('ab_group_id')[\"author_id\"].count().plot(kind=\"bar\", title=\"Unique users contributing during the online experiment\")\n",
    "ax.set(xlabel='AB group id', ylabel='Frequency')"
   ]
  },
  {
   "cell_type": "markdown",
   "metadata": {},
   "source": [
    "## Recommendation coverage\n",
    "How many unique users did get the recommendation? \n",
    "\n",
    "Active users are users who have seen at least one question in CQA system."
   ]
  },
  {
   "cell_type": "code",
   "execution_count": 89,
   "metadata": {
    "collapsed": false
   },
   "outputs": [
    {
     "data": {
      "text/html": [
       "<div>\n",
       "<table border=\"1\" class=\"dataframe\">\n",
       "  <thead>\n",
       "    <tr style=\"text-align: right;\">\n",
       "      <th></th>\n",
       "      <th>total_recommended_to_users</th>\n",
       "      <th>total_active_users</th>\n",
       "      <th>user_coverage</th>\n",
       "    </tr>\n",
       "  </thead>\n",
       "  <tbody>\n",
       "    <tr>\n",
       "      <th>0</th>\n",
       "      <td>268</td>\n",
       "      <td>664</td>\n",
       "      <td>0.403614</td>\n",
       "    </tr>\n",
       "  </tbody>\n",
       "</table>\n",
       "</div>"
      ],
      "text/plain": [
       "   total_recommended_to_users  total_active_users  user_coverage\n",
       "0                         268                 664       0.403614"
      ]
     },
     "execution_count": 89,
     "metadata": {},
     "output_type": "execute_result"
    }
   ],
   "source": [
    "users_coverage = psql.read_sql(\"\"\"\n",
    "    WITH active_users AS (\n",
    "      SELECT COUNT(*) from users u JOIN ab_groupings ab ON u.id = ab.user_id \n",
    "      WHERE u.views_count > 0 AND ab.ab_group_id != 3\n",
    "    )\n",
    "    SELECT COUNT(DISTINCT(ab.user_id)) AS total_recommended_to_users, (SELECT * FROM active_users) AS total_active_users, \n",
    "           COUNT(DISTINCT(ab.user_id)) / (SELECT * FROM active_users)::float AS user_coverage \n",
    "    FROM notifications as n \n",
    "    JOIN ab_groupings ab ON ab.user_id = n.recipient_id \n",
    "    WHERE n.action = 'recommendation' AND n.created_at < '2016-12-20'\n",
    "    \"\"\", connection)\n",
    "users_coverage"
   ]
  },
  {
   "cell_type": "markdown",
   "metadata": {},
   "source": [
    "Proposed question routing framework has covered 40.36% of users. "
   ]
  },
  {
   "cell_type": "markdown",
   "metadata": {},
   "source": [
    "## Success rate\n",
    "Success rate is number of questions with at least one answer.\n",
    "\n",
    "Note: Hello topics are removed as an answer is not expected to them. Only questions are considered, not discussions and bug reports."
   ]
  },
  {
   "cell_type": "code",
   "execution_count": 90,
   "metadata": {
    "collapsed": false
   },
   "outputs": [
    {
     "name": "stdout",
     "output_type": "stream",
     "text": [
      "Success rate before online experiment: 74.405 %\n",
      "Success rate during online experiment: 77.922 %\n"
     ]
    }
   ],
   "source": [
    "questions_before = psql.read_sql(\"\"\"\n",
    "            SELECT q.id, q.title, COUNT(a.id) AS answers_count FROM questions q \n",
    "            LEFT JOIN answers a ON (a.question_id=q.id AND a.created_at < '2016-11-14')\n",
    "            WHERE q.created_at < '2016-11-14' \n",
    "            AND lower(q.title) NOT SIMILAR TO '%\\m(hello|hi|greetings)\\M%' AND question_type_id = 1 \n",
    "            GROUP BY q.id\n",
    "            \"\"\",connection)\n",
    "\n",
    "questions_during = psql.read_sql(\"\"\"\n",
    "            SELECT q.id, q.title, COUNT(a.id) AS answers_count FROM questions q \n",
    "            LEFT JOIN answers a ON (a.question_id=q.id AND a.created_at >= '2016-11-14' \n",
    "                                    AND a.created_at < '2016-12-20')\n",
    "            WHERE q.created_at >= '2016-11-14' AND q.created_at < '2016-12-20' AND question_type_id = 1 \n",
    "            AND lower(q.title) NOT SIMILAR TO '%\\m(hello|hi|greetings)\\M%' \n",
    "            GROUP BY q.id\n",
    "            \"\"\",connection)\n",
    "before_success_rate = (questions_before['answers_count'] != 0).sum()*100 / float(len(questions_before))\n",
    "during_success_rate = (questions_during['answers_count'] != 0).sum()*100 / float(len(questions_during))\n",
    "\n",
    "print(\"Success rate before online experiment: %.3f %%\" % before_success_rate)\n",
    "print(\"Success rate during online experiment: %.3f %%\" % during_success_rate)"
   ]
  },
  {
   "cell_type": "markdown",
   "metadata": {},
   "source": [
    "### Average quality of answers\n",
    "Quality of answers is estimated by number of earned votes for a particular answer."
   ]
  },
  {
   "cell_type": "code",
   "execution_count": 91,
   "metadata": {
    "collapsed": false
   },
   "outputs": [
    {
     "data": {
      "text/html": [
       "<div>\n",
       "<table border=\"1\" class=\"dataframe\">\n",
       "  <thead>\n",
       "    <tr style=\"text-align: right;\">\n",
       "      <th></th>\n",
       "      <th>quality_before</th>\n",
       "      <th>quality_during</th>\n",
       "    </tr>\n",
       "  </thead>\n",
       "  <tbody>\n",
       "    <tr>\n",
       "      <th>0</th>\n",
       "      <td>0.414085</td>\n",
       "      <td>0.410072</td>\n",
       "    </tr>\n",
       "  </tbody>\n",
       "</table>\n",
       "</div>"
      ],
      "text/plain": [
       "   quality_before  quality_during\n",
       "0        0.414085        0.410072"
      ]
     },
     "execution_count": 91,
     "metadata": {},
     "output_type": "execute_result"
    }
   ],
   "source": [
    "quality = psql.read_sql(\"\"\"\n",
    "            SELECT (SELECT AVG(votes_difference) FROM answers a\n",
    "            WHERE a.created_at < '2016-11-14') as quality_before, (SELECT AVG(votes_difference) FROM answers a\n",
    "            WHERE a.created_at >= '2016-11-14' AND a.created_at < '2016-12-20') as quality_during\n",
    "          \"\"\", connection)\n",
    "quality"
   ]
  },
  {
   "cell_type": "markdown",
   "metadata": {},
   "source": [
    "Answer quality did not change with a recommendation."
   ]
  },
  {
   "cell_type": "markdown",
   "metadata": {},
   "source": [
    "### Average time to answer"
   ]
  },
  {
   "cell_type": "code",
   "execution_count": 92,
   "metadata": {
    "collapsed": false
   },
   "outputs": [
    {
     "name": "stdout",
     "output_type": "stream",
     "text": [
      "Average time to answer before online experiment\n",
      "1 days 09:11:28.358339\n",
      "Average time to answer during online experiment\n",
      "1 days 15:09:54.905977\n",
      "Average time to answer incresed with question recommendation by:\n",
      "0 days 05:58:26.547638\n"
     ]
    }
   ],
   "source": [
    "before_answers_time = psql.read_sql(\"\"\"\n",
    "            SELECT q.id, q.created_at, MIN(a.created_at) AS first_answer_time FROM questions q\n",
    "            JOIN answers a ON (a.question_id=q.id AND a.created_at < '2016-11-14')\n",
    "            WHERE q.created_at < '2016-11-14'\n",
    "            GROUP BY q.id\n",
    "            \"\"\",connection)\n",
    "\n",
    "during_answers_time = psql.read_sql(\"\"\"\n",
    "            SELECT q.id, q.created_at, MIN(a.created_at) AS first_answer_time FROM questions q\n",
    "            JOIN answers a ON (a.question_id=q.id AND a.created_at >= '2016-11-14' AND a.created_at < '2016-12-20')\n",
    "            WHERE q.created_at >= '2016-11-14' AND q.created_at < '2016-12-20'\n",
    "            GROUP BY q.id\n",
    "            \"\"\",connection)\n",
    "\n",
    "print(\"Average time to answer before online experiment\")\n",
    "avg_time_before = (before_answers_time['first_answer_time'] - before_answers_time['created_at']).sum() / len(before_answers_time) \n",
    "print(avg_time_before)\n",
    "\n",
    "print(\"Average time to answer during online experiment\")\n",
    "avg_time_during = (during_answers_time['first_answer_time'] - during_answers_time['created_at']).sum() / len(during_answers_time)\n",
    "print(avg_time_during)\n",
    "\n",
    "print(\"Average time to answer incresed with question recommendation by:\")\n",
    "print(avg_time_during - avg_time_before)"
   ]
  },
  {
   "cell_type": "markdown",
   "metadata": {
    "collapsed": true
   },
   "source": [
    "### Contributing users for each week compared to active users in a week\n",
    "Contribution is defined as asking, answering and commenting. Active user is a user who saw any question during a particular week."
   ]
  },
  {
   "cell_type": "code",
   "execution_count": 93,
   "metadata": {
    "collapsed": false
   },
   "outputs": [
    {
     "data": {
      "text/plain": [
       "0     20.689655\n",
       "1     21.802326\n",
       "2     27.433628\n",
       "3     23.295455\n",
       "4     21.600000\n",
       "5     22.916667\n",
       "6     20.740741\n",
       "7     19.014085\n",
       "8     17.361111\n",
       "9     14.383562\n",
       "10    20.253165\n",
       "dtype: float64"
      ]
     },
     "execution_count": 93,
     "metadata": {},
     "output_type": "execute_result"
    }
   ],
   "source": [
    "contributing_users = psql.read_sql(\"\"\"\n",
    "    SELECT date_trunc('week', a.created_at::date) AS weekly, COUNT(DISTINCT(a.initiator_id)) as contributing_users_count\n",
    "    FROM activities a\n",
    "    WHERE a.resource_type IN ('Shared::Question', 'Shared::Answer', 'Shared::Comment')\n",
    "    AND a.created_at > '2016-10-03' AND a.created_at < '2016-12-19' AND a.action='create'\n",
    "    GROUP BY weekly\n",
    "    ORDER BY weekly\n",
    "          \"\"\", connection)\n",
    "active_users = psql.read_sql(\"\"\"\n",
    "    SELECT date_trunc('week', a.created_at::date) AS weekly, COUNT(DISTINCT(a.initiator_id)) as active_users_count FROM activities a\n",
    "    WHERE a.resource_type IN ('Shared::View')\n",
    "    AND a.created_at > '2016-10-03' AND a.created_at < '2016-12-19' AND a.action='create'\n",
    "    GROUP BY weekly\n",
    "    ORDER BY weekly\n",
    "          \"\"\", connection)\n",
    "users = pd.merge(contributing_users, active_users, on='weekly', how='inner')\n",
    "users['contributing_users_count']*100 / users['active_users_count']"
   ]
  },
  {
   "cell_type": "code",
   "execution_count": null,
   "metadata": {
    "collapsed": true
   },
   "outputs": [],
   "source": []
  }
 ],
 "metadata": {
  "anaconda-cloud": {},
  "kernelspec": {
   "display_name": "Python [conda env:askalot]",
   "language": "python",
   "name": "conda-env-askalot-py"
  },
  "language_info": {
   "codemirror_mode": {
    "name": "ipython",
    "version": 2
   },
   "file_extension": ".py",
   "mimetype": "text/x-python",
   "name": "python",
   "nbconvert_exporter": "python",
   "pygments_lexer": "ipython2",
   "version": "2.7.12"
  }
 },
 "nbformat": 4,
 "nbformat_minor": 0
}
